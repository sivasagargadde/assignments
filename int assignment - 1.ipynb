{
 "cells": [
  {
   "cell_type": "markdown",
   "id": "e89d7388",
   "metadata": {},
   "source": [
    "Q. Declare an int value and store it in a variable.\n",
    "Check the type and print the id of the same."
   ]
  },
  {
   "cell_type": "code",
   "execution_count": 16,
   "id": "f1c8f415",
   "metadata": {},
   "outputs": [
    {
     "name": "stdout",
     "output_type": "stream",
     "text": [
      "type of variable: <class 'int'> 10\n",
      "Id of variable: 110284728912\n"
     ]
    }
   ],
   "source": [
    "# A\n",
    "a=10\n",
    "print ('type of variable:',type(a), a)\n",
    "print ('Id of variable:',id(a))"
   ]
  },
  {
   "cell_type": "markdown",
   "id": "732b5aad",
   "metadata": {},
   "source": [
    "Q. Take one int value between 0 - 256.\n",
    "Assign it to two different variables.\n",
    "Check the id of both the variables. It should come the same. Check why?\n",
    "\n",
    "#### A: Because we have a concept of object resuability, which means in heap area instead of creating a new object the same object address will be given to another variable in stack area and the condition is any integer in between -5 to 256 can be usable."
   ]
  },
  {
   "cell_type": "code",
   "execution_count": 5,
   "id": "498af240",
   "metadata": {},
   "outputs": [
    {
     "name": "stdout",
     "output_type": "stream",
     "text": [
      "ID of the variable a: 300706785872\n",
      "ID of the variable b: 300706785872\n"
     ]
    }
   ],
   "source": [
    "a=10\n",
    "b=10\n",
    "print('ID of the variable a:', id(a))\n",
    "print ('ID of the variable b:',id(b))"
   ]
  },
  {
   "cell_type": "markdown",
   "id": "00abc7b5",
   "metadata": {},
   "source": [
    "Q. Take one int value either less than -5 or greater than 256.\n",
    "Assign it to two different variables.\n",
    "Check the id of both the variables. It should come different.Check why?\n",
    "\n",
    "#### A: Because we have a concept of object resuability, which means in heap area instead of creating a new object the same object address will be given to another variable in stack area and the condition is any integer in between -5 to 256 can be usable."
   ]
  },
  {
   "cell_type": "code",
   "execution_count": 7,
   "id": "f15fa7ef",
   "metadata": {},
   "outputs": [
    {
     "name": "stdout",
     "output_type": "stream",
     "text": [
      "ID of the variable a: 300812094096\n",
      "ID of the variable b: 300814469776\n"
     ]
    }
   ],
   "source": [
    "a=500\n",
    "b=500\n",
    "print('ID of the variable a:', id(a))\n",
    "print ('ID of the variable b:',id(b))"
   ]
  },
  {
   "cell_type": "markdown",
   "id": "7625c308",
   "metadata": {},
   "source": [
    "Q. Arithmetic Operations on integers\n",
    "Take two different integer values.\n",
    "Store them in two different variables.\n",
    "Do below operations on them:-\n",
    "Find sum of both numbers\n",
    "Find difference between them\n",
    "Find the product of both numbers.\n",
    "Find value after dividing first num with second number\n",
    "Find the remainder after dividing first number with second number\n",
    "Find the quotient after dividing first number with second number\n",
    "Find the result of the first num to the power of the second number."
   ]
  },
  {
   "cell_type": "code",
   "execution_count": 13,
   "id": "7afdcbc4",
   "metadata": {},
   "outputs": [
    {
     "name": "stdout",
     "output_type": "stream",
     "text": [
      "Find sum of both numbers: 15\n",
      "Find difference between them: 5\n",
      "Find the product of both numbers: 50\n",
      "Find value after dividing first num with second number: 2\n",
      "Find the reminder after dividing first number with second number: 0\n",
      "Find the quotient after dividing first number with second number: 2\n",
      "Find the result of the first num to the power of the second number: 100000\n"
     ]
    }
   ],
   "source": [
    "a=10\n",
    "b=5\n",
    "\n",
    "print('Find sum of both numbers:' , a+b ) \n",
    "print('Find difference between them:', a-b)\n",
    "print('Find the product of both numbers:', a*b)\n",
    "print('Find value after dividing first num with second number:', int(a/b))\n",
    "print('Find the reminder after dividing first number with second number:', a%b)\n",
    "print('Find the quotient after dividing first number with second number:', a//b)\n",
    "print('Find the result of the first num to the power of the second number:', a**b)"
   ]
  },
  {
   "cell_type": "markdown",
   "id": "49e3ba4f",
   "metadata": {},
   "source": [
    "Q. Comparison Operators on integers\n",
    "Take two different integer values.\n",
    "Store them in two different variables.\n",
    "Do below operations on them:-\n",
    "Compare se two numbers with below operator:-\n",
    "Greater than, '>'\n",
    "Smaller than, '<'\n",
    "Greater than or equal to, '>='\n",
    "Less than or equal to, '<='\n",
    "Observe their output(return type should be boolean)"
   ]
  },
  {
   "cell_type": "code",
   "execution_count": 8,
   "id": "7a15ea10",
   "metadata": {},
   "outputs": [
    {
     "name": "stdout",
     "output_type": "stream",
     "text": [
      "Greater than: False\n",
      "Smaller than: True\n",
      "Greaterthan or requal to: False\n",
      "Lessthan or requal to: True\n"
     ]
    }
   ],
   "source": [
    "a=10\n",
    "b=20\n",
    "print ('Greater than:', a>b)\n",
    "print ('Smaller than:', a<b)\n",
    "print ('Greaterthan or requal to:',a>=b)\n",
    "print ('Lessthan or requal to:',a<=b)"
   ]
  },
  {
   "cell_type": "markdown",
   "id": "8f8dc100",
   "metadata": {},
   "source": [
    "Q. Equality Operator\n",
    "Take two different integer values.\n",
    "Store them in two different variables.\n",
    "Equate them using equality operators (==, !=)\n",
    "Observe the output(return type should be boolean)"
   ]
  },
  {
   "cell_type": "code",
   "execution_count": 14,
   "id": "a145ae95",
   "metadata": {},
   "outputs": [
    {
     "name": "stdout",
     "output_type": "stream",
     "text": [
      "False True\n"
     ]
    }
   ],
   "source": [
    "a=10\n",
    "b=20\n",
    "print (a==b , a!=b )"
   ]
  },
  {
   "cell_type": "code",
   "execution_count": 14,
   "id": "e3e7f09d",
   "metadata": {},
   "outputs": [
    {
     "name": "stdout",
     "output_type": "stream",
     "text": [
      "20\n",
      "0\n",
      "0\n",
      "0\n",
      "10\n",
      "20\n",
      "20\n",
      "0\n",
      "False\n",
      "True\n"
     ]
    }
   ],
   "source": [
    "#Q. Logical operators\n",
    "#Observe the output of below code\n",
    "#Cross check the output manually\n",
    "\n",
    "print(10 and 20)\n",
    "#----------------------------------------->Output is 20\n",
    "## Correct, Because in 'And' operator If A is true then result will be B\n",
    "\n",
    "print(0 and 20)\n",
    "#----------------------------------------->Output is 0\n",
    "## Correct, Because in 'And' operator If A is false then result will be A\n",
    "\n",
    "print(20 and 0)\n",
    "#----------------------------------------->Output is 0\n",
    "## Correct, Because in 'And' operator If A is true then result will be B\n",
    "\n",
    "print(0 and 0)\n",
    "#----------------------------------------->Output is 0\n",
    "## Correct, Because in 'And' operator If A is false then result will be A\n",
    "\n",
    "print(10 or 20)\n",
    "#----------------------------------------->Output is 10\n",
    "## Correct, Because in 'OR' operator If A is true then result will be A\n",
    "\n",
    "print(0 or 20)\n",
    "#----------------------------------------->Output is 20\n",
    "## Correct, Because in 'OR' operator If A is false then result will be B\n",
    "\n",
    "print(20 or 0)\n",
    "#----------------------------------------->Output is 20\n",
    "## Correct, Because in 'OR' operator If A is true then result will be A\n",
    "\n",
    "print(0 or 0)\n",
    "#----------------------------------------->Output is 0\n",
    "## Correct, Because in 'OR' operator If A is true then result will be B\n",
    "\n",
    "print(not 10)\n",
    "#----------------------------------------->Output is False\n",
    "# Correct, Because any value is true apart from 0\n",
    "\n",
    "print(not 0)\n",
    "#----------------------------------------->Output is True\n",
    "## Correct, Because zero is false"
   ]
  },
  {
   "cell_type": "markdown",
   "id": "58acb657",
   "metadata": {},
   "source": [
    "Q. Bitwise Operators\n",
    "Do below operations on the values provided below:-\n",
    "Bitwise and(&) -----------------------------------------> 10, 20\n",
    "-------> Output is 0\n",
    "Bitwise or(|) -----------------------------------------> 10, 20\n",
    "-------> Output is 30\n",
    "Bitwise(^) -----------------------------------------> 10, 20\n",
    "-------> Output is 30\n",
    "Bitwise negation(~) ------------------------------------> 10\n",
    "-------> Output is -11\n",
    "Bitwise left shift ------------------------------------> 10,2\n",
    "-------> Output is 40\n",
    "Bitwise right shift ------------------------------------> 10,2\n",
    "-------> Output is 2\n",
    "Cross check the output manually"
   ]
  },
  {
   "cell_type": "code",
   "execution_count": 22,
   "id": "13125382",
   "metadata": {},
   "outputs": [
    {
     "name": "stdout",
     "output_type": "stream",
     "text": [
      "0\n",
      "30\n",
      "30\n",
      "-11\n",
      "40\n",
      "2\n"
     ]
    }
   ],
   "source": [
    "print (10 & 20)\n",
    "print (10 | 20)\n",
    "print (10 ^ 20)\n",
    "print (~10)\n",
    "print (10 << 2)\n",
    "print (10 >> 2)"
   ]
  },
  {
   "cell_type": "code",
   "execution_count": 15,
   "id": "7e9709e2",
   "metadata": {},
   "outputs": [
    {
     "name": "stdout",
     "output_type": "stream",
     "text": [
      "True\n",
      "False\n",
      "False\n",
      "True\n"
     ]
    }
   ],
   "source": [
    "#Q. What is the output of expression inside print statement. Cross check before running the program.\n",
    "\n",
    "a = 10\n",
    "b = 10\n",
    "print(a is b) #True or False? ---> o/p:- True, because of object resubaility concept.\n",
    "print(a is not b) #True or False? ----> o/p:- False, because of object resubaility concept.\n",
    "a = 1000\n",
    "b = 1000\n",
    "print(a is b) #True or False? o/p:-False, because of object resubaility concept.\n",
    "print(a is not b) #True or False? 0/p:- True, because of object resubaility concept.integer in between -5 to 256 can be considered."
   ]
  },
  {
   "cell_type": "code",
   "execution_count": 28,
   "id": "3c5b34d9",
   "metadata": {},
   "outputs": [
    {
     "name": "stdout",
     "output_type": "stream",
     "text": [
      "20\n"
     ]
    }
   ],
   "source": [
    "#Q. What is the output of expression inside print statement. Cross check before running the program.\n",
    "print(10+(10*32)//2**5&20+(~(-10))<<2) #operator precendence concept. "
   ]
  },
  {
   "cell_type": "code",
   "execution_count": 30,
   "id": "e517df5d",
   "metadata": {},
   "outputs": [
    {
     "name": "stdout",
     "output_type": "stream",
     "text": [
      "True\n",
      "True\n",
      "True\n",
      "True\n",
      "True\n",
      "True\n"
     ]
    }
   ],
   "source": [
    "#Q. Membership operation :- in, not in are two membership operators and it returns boolean value\n",
    "print('2' in 'Python2.7.8') #True, because 2 is available in given string\n",
    "print(10 in [10,10.20,10+20j,'Python']) #True,because 10 is available in given data\n",
    "print(10 in (10,10.20,10+20j,'Python')) # True, because 10 is available in given data\n",
    "print(2 in {1,2,3}) # True,because 2 is available in given data\n",
    "print(3 in {1:100, 2:200, 3:300})# True, because 3 is available in given data\n",
    "print(10 in range(20))  # True, because 10 is in the range of 0-20"
   ]
  },
  {
   "cell_type": "markdown",
   "id": "acafa734",
   "metadata": {},
   "source": [
    "Q. An integer can be represented in binary, octal or hexadecimal form.\n",
    "Declare one binary, one octal and one hexadecimal value and store them\n",
    "in three different variables.\n",
    "Convert 9876 to its binary, octal and hexadecimal equivalent and print\n",
    "their corresponding value."
   ]
  },
  {
   "cell_type": "code",
   "execution_count": 11,
   "id": "3745bf72",
   "metadata": {},
   "outputs": [
    {
     "name": "stdout",
     "output_type": "stream",
     "text": [
      "converting from binary number to integer: 21\n",
      "converting from octal number to integer: 262665\n",
      "converting from hexadecimal number to integer: 1118224\n",
      "9876 binary number is: 0b10011010010100\n",
      "9876 octal number is: 0o23224\n",
      "9876 hexadecimal number: 0x2694\n"
     ]
    }
   ],
   "source": [
    "a = 0b010101\n",
    "b = 0o1001011\n",
    "c = 0x0111010\n",
    "print ('converting from binary number to integer:',a)\n",
    "print ('converting from octal number to integer:',b)\n",
    "print ('converting from hexadecimal number to integer:',c)\n",
    "\n",
    "num=9876\n",
    "\n",
    "print ('9876 binary number is:', bin(num))\n",
    "print ('9876 octal number is:', oct(num))\n",
    "print ('9876 hexadecimal number:', hex(num))\n"
   ]
  },
  {
   "cell_type": "code",
   "execution_count": 12,
   "id": "f4a8e1ee",
   "metadata": {},
   "outputs": [
    {
     "name": "stdout",
     "output_type": "stream",
     "text": [
      "80\n",
      "3870\n",
      "64222\n",
      "0b1010000\n",
      "0o7436\n",
      "0xfade\n",
      "0b1010000\n",
      "0b1111101011011110\n",
      "0o175336\n",
      "0o7436\n",
      "0x50\n",
      "0xfade\n"
     ]
    }
   ],
   "source": [
    "#Q. What will be the output of following:-\n",
    "a = 0b1010000\n",
    "print(a)\n",
    "b = 0o7436\n",
    "print(b)\n",
    "c = 0xfade\n",
    "print(c)\n",
    "print(bin(80))\n",
    "print(oct(3870))\n",
    "print(hex(64222))\n",
    "print(bin(0b1010000))\n",
    "print(bin(0xfade))\n",
    "print(oct(0xfade))\n",
    "print(oct(0o7436))\n",
    "print(hex(0b1010000))\n",
    "print(hex(0xfade))"
   ]
  },
  {
   "cell_type": "code",
   "execution_count": null,
   "id": "eccbc0c1",
   "metadata": {},
   "outputs": [],
   "source": []
  }
 ],
 "metadata": {
  "kernelspec": {
   "display_name": "Python 3 (ipykernel)",
   "language": "python",
   "name": "python3"
  },
  "language_info": {
   "codemirror_mode": {
    "name": "ipython",
    "version": 3
   },
   "file_extension": ".py",
   "mimetype": "text/x-python",
   "name": "python",
   "nbconvert_exporter": "python",
   "pygments_lexer": "ipython3",
   "version": "3.9.7"
  }
 },
 "nbformat": 4,
 "nbformat_minor": 5
}
