{
 "cells": [
  {
   "cell_type": "markdown",
   "id": "b2f60764",
   "metadata": {},
   "source": [
    "Q. Declare a boolean value and store it in a variable.\n",
    "Check the type and print the id of the same."
   ]
  },
  {
   "cell_type": "code",
   "execution_count": 28,
   "id": "0f3df77a",
   "metadata": {},
   "outputs": [
    {
     "name": "stdout",
     "output_type": "stream",
     "text": [
      "type of variable a is : <class 'bool'>\n",
      "Id of variable a is: 140728018229352\n",
      "type of variable is: <class 'bool'> False\n",
      "Id of variable is: 140728018229384\n"
     ]
    }
   ],
   "source": [
    "a = True \n",
    "b = False\n",
    "print ('type of variable a is :',type(a))\n",
    "print ('Id of variable a is:',id(a))\n",
    "print ('type of variable is:',type(b), b)\n",
    "print ('Id of variable is:',id(b))"
   ]
  },
  {
   "cell_type": "markdown",
   "id": "4739b2b9",
   "metadata": {},
   "source": [
    "Q. Take one boolean value between 0 - 256.\n",
    "Assign it to two different variables.\n",
    "Check the id of both the variables. It should come the same. Check why?"
   ]
  },
  {
   "cell_type": "code",
   "execution_count": 29,
   "id": "35f5f306",
   "metadata": {},
   "outputs": [
    {
     "name": "stdout",
     "output_type": "stream",
     "text": [
      "Id of variable a is: 688192842032\n",
      "Id of variable b is: 688192842032\n",
      "Id of variable c is: 140728018229352\n",
      "Id of variable d is: 140728018229352\n"
     ]
    }
   ],
   "source": [
    "a = 1\n",
    "b = 1\n",
    "c = True\n",
    "d = True\n",
    "print ('Id of variable a is:',id(a))\n",
    "print ('Id of variable b is:',id(b))\n",
    "print ('Id of variable c is:',id(c))\n",
    "print ('Id of variable d is:',id(d))\n",
    "\n",
    "# output will be same for variable a and b, because of object resuability. \n",
    "#variable c & d will be same becasue od object resuability concept. bool values will also have same address in heap memory."
   ]
  },
  {
   "cell_type": "markdown",
   "id": "ea41890e",
   "metadata": {},
   "source": [
    "Q. Arithmetic Operations on boolean data\n",
    "Take two different boolean values.\n",
    "Store them in two different variables.\n",
    "Do below operations on them:-\n",
    "Find sum of both values\n",
    "Find difference between them\n",
    "Find the product of both.\n",
    "Find value after dividing first value with second value\n",
    "Find the remainder after dividing first value with second value\n",
    "Find the quotient after dividing first value with second value\n",
    "Find the result of first value to the power of second value."
   ]
  },
  {
   "cell_type": "code",
   "execution_count": 19,
   "id": "7051c4f8",
   "metadata": {},
   "outputs": [
    {
     "name": "stdout",
     "output_type": "stream",
     "text": [
      "Find sum of both numbers: 1\n",
      "Find difference between them: -1\n",
      "Find the product of both numbers: 0\n",
      "Find value after dividing first num with second number: 0\n",
      "Find the reminder after dividing first number with second number: 0\n",
      "Find the quotient after dividing first number with second number: 0\n",
      "Find the result of the first num to the power of the second number: 0\n"
     ]
    }
   ],
   "source": [
    "a=False\n",
    "b=True\n",
    "\n",
    "print('Find sum of both numbers:' , a+b ) \n",
    "print('Find difference between them:', a-b)\n",
    "print('Find the product of both numbers:', a*b)\n",
    "print('Find value after dividing first num with second number:', int(a/b))\n",
    "print('Find the reminder after dividing first number with second number:', a%b)\n",
    "print('Find the quotient after dividing first number with second number:', a//b)\n",
    "print('Find the result of the first num to the power of the second number:', a**b)"
   ]
  },
  {
   "cell_type": "markdown",
   "id": "9f368c8e",
   "metadata": {},
   "source": [
    "Q. Comparison Operators on boolean values\n",
    "Take two different boolean values.\n",
    "Store them in two different variables.\n",
    "Do below operations on them:-\n",
    "Compare these two values with below operator:-\n",
    "Greater than, '>'\n",
    "less than, '<'\n",
    "Greater than or equal to, '>='\n",
    "Less than or equal to, '<='\n",
    "Observe their output(return type should be boolean)"
   ]
  },
  {
   "cell_type": "code",
   "execution_count": 20,
   "id": "8a7310b7",
   "metadata": {},
   "outputs": [
    {
     "name": "stdout",
     "output_type": "stream",
     "text": [
      "Greater than: True\n",
      "Smaller than: False\n",
      "Greaterthan or requal to: True\n",
      "Lessthan or requal to: False\n"
     ]
    }
   ],
   "source": [
    "a=True\n",
    "b=False\n",
    "print ('Greater than:', a>b)\n",
    "print ('Smaller than:', a<b)\n",
    "print ('Greaterthan or requal to:',a>=b)\n",
    "print ('Lessthan or requal to:',a<=b)"
   ]
  },
  {
   "cell_type": "markdown",
   "id": "a7fa3080",
   "metadata": {},
   "source": [
    "Q. Equality Operator\n",
    "Take two different boolean values.\n",
    "Store them in two different variables.\n",
    "Equate them using equality operators (==, !=)\n",
    "Observe the output(return type should be boolean)"
   ]
  },
  {
   "cell_type": "code",
   "execution_count": 21,
   "id": "21ae9ad3",
   "metadata": {},
   "outputs": [
    {
     "name": "stdout",
     "output_type": "stream",
     "text": [
      "False True\n"
     ]
    }
   ],
   "source": [
    "a=True\n",
    "b=False\n",
    "print (a==b , a!=b )"
   ]
  },
  {
   "cell_type": "code",
   "execution_count": 23,
   "id": "371932a5",
   "metadata": {},
   "outputs": [
    {
     "name": "stdout",
     "output_type": "stream",
     "text": [
      "True\n",
      "False\n",
      "False\n",
      "False\n",
      "True\n",
      "True\n",
      "True\n",
      "False\n",
      "False\n",
      "True\n"
     ]
    }
   ],
   "source": [
    "#Q. Logical operators\n",
    "#Observe the output of below code Cross check the output manually\n",
    "\n",
    "print(True and True)\n",
    "#----------------------------------------->Output is True\n",
    "## Correct, Because in 'And' operator If A is true then result will be B\n",
    "\n",
    "print(False and True)\n",
    "#----------------------------------------->Output is False\n",
    "## Correct, Because in 'And' operator If A is false then result will be A\n",
    "\n",
    "print(True and False)\n",
    "#----------------------------------------->Output is False\n",
    "## Correct, Because in 'And' operator If A is true then result will be B\n",
    "\n",
    "print(False and False)\n",
    "#----------------------------------------->Output is False\n",
    "## Correct, Because in 'And' operator If A is false then result will be A\n",
    "\n",
    "print(True or True)\n",
    "#----------------------------------------->Output is True\n",
    "## Correct, Because in 'OR' operator If A is true then result will be A\n",
    "\n",
    "print(False or True)\n",
    "#----------------------------------------->Output is True\n",
    "## Correct, Because in 'OR' operator If A is false then result will be B\n",
    "\n",
    "print(True or False)\n",
    "#----------------------------------------->Output is True\n",
    "## Correct, Because in 'OR' operator If A is true then result will be A\n",
    "\n",
    "print(False or False)\n",
    "#----------------------------------------->Output is False\n",
    "## Correct, Because in 'OR' operator If A is true then result will be B\n",
    "\n",
    "print(not True)\n",
    "#----------------------------------------->Output is False\n",
    "# Correct, Because any value is true apart from 0\n",
    "\n",
    "print(not False)\n",
    "#----------------------------------------->Output is True\n",
    "## Correct, Because zero is false"
   ]
  },
  {
   "cell_type": "markdown",
   "id": "e1f3a5bd",
   "metadata": {},
   "source": [
    "Q. Bitwise Operators\n",
    "Do below operations on the values provided below:-\n",
    "Bitwise and(&) --------------> True, True -------> Output is True\n",
    "Bitwise or(|) --------------> True, False -------> Output is True\n",
    "Bitwise(^) --------------> True, False -------> Output is True\n",
    "Bitwise negation(~) ---------> True -------> Output is -2\n",
    "Bitwise left shift ---------> True,2 -------> Output is 4\n",
    "Bitwise right shift ---------> True,2 -------> Output is 0\n",
    "Cross check the output manually"
   ]
  },
  {
   "cell_type": "code",
   "execution_count": 26,
   "id": "7aaa2d5d",
   "metadata": {},
   "outputs": [
    {
     "name": "stdout",
     "output_type": "stream",
     "text": [
      "True\n",
      "True\n",
      "True\n",
      "-2\n",
      "4\n",
      "0\n"
     ]
    }
   ],
   "source": [
    "print (True & True)\n",
    "print (True | False)\n",
    "print (True ^ False)\n",
    "print (~True)\n",
    "print (True << 2)\n",
    "print (True >> 2)"
   ]
  },
  {
   "cell_type": "code",
   "execution_count": 31,
   "id": "7c43ce29",
   "metadata": {},
   "outputs": [
    {
     "name": "stdout",
     "output_type": "stream",
     "text": [
      "True\n",
      "False\n",
      "True\n",
      "False\n"
     ]
    }
   ],
   "source": [
    "#Q. What is the output of expression inside the print statement. Cross check before running the program.\n",
    "a = True\n",
    "b = True\n",
    "print(a is b) #True or False?  True, because of object resubaility concept.\n",
    "print(a is not b) #True or False? False, because of object resubaility concept.\n",
    "\n",
    "a = False\n",
    "b = False\n",
    "print(a is b) #True or False? True, because of object resubaility concept.\n",
    "print(a is not b) #True or False? False, because of object resubaility concept. bool values will also have same address in heap memory."
   ]
  },
  {
   "cell_type": "code",
   "execution_count": 42,
   "id": "8638ab84",
   "metadata": {},
   "outputs": [
    {
     "name": "stdout",
     "output_type": "stream",
     "text": [
      "True\n",
      "True\n",
      "True\n",
      "True\n",
      "True\n"
     ]
    }
   ],
   "source": [
    "#Q. Membership operation\n",
    "#in, not in are two membership operators and it returns boolean value. \n",
    "\n",
    "print(True in [10,10.20,10+20j,'Python', True])\n",
    "print(False in (10,10.20,10+20j,'Python', False))\n",
    "print(True in {1,2,3, True})\n",
    "print(True in {True:100, False:200, True:300})\n",
    "print(False in {True:100, False:200, True:300})\n",
    "\n",
    "# Since true is 1 and false means zero, even if both matches still throws true."
   ]
  }
 ],
 "metadata": {
  "kernelspec": {
   "display_name": "Python 3 (ipykernel)",
   "language": "python",
   "name": "python3"
  },
  "language_info": {
   "codemirror_mode": {
    "name": "ipython",
    "version": 3
   },
   "file_extension": ".py",
   "mimetype": "text/x-python",
   "name": "python",
   "nbconvert_exporter": "python",
   "pygments_lexer": "ipython3",
   "version": "3.9.7"
  }
 },
 "nbformat": 4,
 "nbformat_minor": 5
}
