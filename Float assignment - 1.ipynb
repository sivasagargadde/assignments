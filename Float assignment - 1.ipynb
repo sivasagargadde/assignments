{
 "cells": [
  {
   "cell_type": "markdown",
   "id": "85a543bf",
   "metadata": {},
   "source": [
    "Q. Declare a float value and store it in a variable.\n",
    "Check the type and print the id of the same."
   ]
  },
  {
   "cell_type": "code",
   "execution_count": 43,
   "id": "52f60282",
   "metadata": {},
   "outputs": [
    {
     "name": "stdout",
     "output_type": "stream",
     "text": [
      "type of varaible: <class 'float'> 10.5\n",
      "ID of variable: 521676624496\n"
     ]
    }
   ],
   "source": [
    "a = 10.5\n",
    "print ('type of varaible:' ,type(a), a)\n",
    "print ('ID of variable:',id(a))"
   ]
  },
  {
   "cell_type": "markdown",
   "id": "93c75678",
   "metadata": {},
   "source": [
    "Q. Arithmetic Operations on float\n",
    "Take two different float values.\n",
    "Store them in two different variables.\n",
    "Do below operations on them:-\n",
    " Find sum of both numbers\n",
    " Find difference between them\n",
    " Find the product of both numbers.\n",
    " Find value after dividing first num with second number\n",
    " Find the remainder after dividing first number with second number\n",
    " Find the quotient after dividing first number with second number\n",
    " Find the result of the first num to the power of the second number."
   ]
  },
  {
   "cell_type": "code",
   "execution_count": 41,
   "id": "27cc92ce",
   "metadata": {},
   "outputs": [
    {
     "name": "stdout",
     "output_type": "stream",
     "text": [
      "Find sum of both numbers: 31.1\n",
      "Find difference between them: -10.100000000000001\n",
      "Find the product of both numbers: 216.3\n",
      "Find value after dividing first num with second number: 0.5097087378640777\n",
      "Find the reminder after dividing first number with second number: 10.5\n",
      "Find the quotient after dividing first number with second number: 0.0\n",
      "Find the result of the first num to the power of the second number: 1.0876760377706958e+21\n"
     ]
    }
   ],
   "source": [
    "a=10.5\n",
    "b=20.6\n",
    "\n",
    "print('Find sum of both numbers:' , a+b ) \n",
    "print('Find difference between them:', a-b)\n",
    "print('Find the product of both numbers:', a*b)\n",
    "print('Find value after dividing first num with second number:', a/b)\n",
    "print('Find the reminder after dividing first number with second number:', a%b)\n",
    "print('Find the quotient after dividing first number with second number:', a//b)\n",
    "print('Find the result of the first num to the power of the second number:', a**b)\n",
    "\n"
   ]
  },
  {
   "cell_type": "markdown",
   "id": "cde48980",
   "metadata": {},
   "source": [
    "Q. Comparison Operators on float\n",
    "Take two different float values.\n",
    "Store them in two different variables.\n",
    "\n",
    "Do below operations on them:-\n",
    "\n",
    "Compare these two numbers with below operator:-\n",
    "\n",
    "Greater than, '>'\n",
    "\n",
    "Smaller than, '<'\n",
    "\n",
    "Greater than or equal to, '>='\n",
    "\n",
    "Less than or equal to, '<='\n",
    "\n",
    "observe their output(return type should be boolean)\n"
   ]
  },
  {
   "cell_type": "code",
   "execution_count": 44,
   "id": "12316a58",
   "metadata": {},
   "outputs": [
    {
     "name": "stdout",
     "output_type": "stream",
     "text": [
      "Greater than: False\n",
      "Smaller than: True\n",
      "Greaterthan or requal to: False\n",
      "Lessthan or requal to: True\n"
     ]
    }
   ],
   "source": [
    "a=10.5\n",
    "b=20.8\n",
    "print ('Greater than:', a>b)\n",
    "print ('Smaller than:', a<b)\n",
    "print ('Greaterthan or requal to:',a>=b)\n",
    "print ('Lessthan or requal to:',a<=b)"
   ]
  },
  {
   "cell_type": "markdown",
   "id": "0a43758f",
   "metadata": {},
   "source": [
    "Q.Equality Operator\n",
    "Take two different float values.\n",
    "Store them in two different variables.\n",
    "Equate them using equality operators (==, !=)\n",
    "Observe the output(return type should be boolean)\n"
   ]
  },
  {
   "cell_type": "code",
   "execution_count": 16,
   "id": "69f88264",
   "metadata": {},
   "outputs": [
    {
     "name": "stdout",
     "output_type": "stream",
     "text": [
      "False\n",
      "True\n"
     ]
    }
   ],
   "source": [
    "a=100.2\n",
    "b=200.9\n",
    "print(a==b)\n",
    "print(a!=b)"
   ]
  },
  {
   "cell_type": "code",
   "execution_count": 46,
   "id": "972d1c18",
   "metadata": {},
   "outputs": [
    {
     "name": "stdout",
     "output_type": "stream",
     "text": [
      "20.3\n",
      "0.0\n",
      "0.0\n",
      "0.0\n",
      "10.2\n",
      "20.3\n",
      "20.3\n",
      "0.0\n",
      "False\n",
      "True\n"
     ]
    }
   ],
   "source": [
    "# Q. Logical operators\n",
    "# Observe the output of below code\n",
    "# Cross check the output manually\n",
    "\n",
    "print(10.20 and 20.30) #both are true and second value taken Output is 20.3  \n",
    "## Correct, Because in 'And' operator If A is true then result will be B\n",
    "\n",
    "print(0.0 and 20.30) #First is false so first value taken->Output is 0.0\n",
    "## Correct, Because in 'And' operator If A is false then result will be A\n",
    "\n",
    "print(20.30 and 0.0) #Goes to till second and second value is false so second is taken>Output is 0.0\n",
    "## Correct, Because in 'And' operator If A is true then result will be B\n",
    "\n",
    "print(0.0 and 0.0) #First is false so first value is taken->Output is 0.0\n",
    "## Correct, Because in 'And' operator If A is false then result will be A\n",
    "\n",
    "print(10.20 or 20.30) #First is True so first value is taken>Output is 10.2\n",
    "## Correct, Because in 'OR' operator If A is true then result will be A\n",
    "\n",
    "print(0.0 or 20.30) #Goes to till second and second is true second value is taken->Output is 20.3\n",
    "## Correct, Because in 'OR' operator If A is false then result will be B\n",
    "\n",
    "print(20.30 or 0.0) #First is True so first value is taken->Output is 20.3\n",
    "## Correct, Because in 'OR' operator If A is true then result will be A\n",
    "\n",
    "print(0.0 or 0.0) #Goes to till second and second is also false and second value is taken>Output is 0.0\n",
    "## Correct, Because in 'OR' operator If A is true then result will be A\n",
    "\n",
    "print(not 10.20) #-Not of true is false->Output is False\n",
    "## Correct, Because any value is true apart from 0\n",
    "\n",
    "print(not 0.0) #Not of false is True>Output is True\n",
    "## Correct, Because zero is false"
   ]
  },
  {
   "cell_type": "markdown",
   "id": "ca47d11a",
   "metadata": {},
   "source": [
    "Q. What is the output of expression inside print statement. Cross check\n",
    "before running the program.\n",
    "a = 10.20\n",
    "b - 10.20\n",
    "print(a is b) #True or False? True 10.20<256\n",
    "print(a is not b) #True or False? False\n",
    "Why the Id of float values are different when the same value is\n",
    "assigned to two different variables\n",
    "ex: a = 10.5 b=10.5. but id will be same if I assign the variable\n",
    "having float i.e. a=c then both a and c's Id are same\n",
    "\n",
    "### print (a is b), output will be false\n",
    "### print (a is not b), output will be true\n",
    "### Because we dont have object resuability concept in float. because infinity numbers will be there in between 1.0 to 2.0.  \n"
   ]
  },
  {
   "cell_type": "code",
   "execution_count": 32,
   "id": "8c21f552",
   "metadata": {},
   "outputs": [
    {
     "name": "stdout",
     "output_type": "stream",
     "text": [
      "False\n",
      "True\n"
     ]
    }
   ],
   "source": [
    "a=10.20\n",
    "b=10.20\n",
    "print (a is b)\n",
    "print (a is not b)"
   ]
  },
  {
   "cell_type": "markdown",
   "id": "ed7a3420",
   "metadata": {},
   "source": [
    "Q. Bitwise operation is not applicable between instances of float.\n",
    "Why the Id of float values are different when the same value is\n",
    "assigned to two different variables\n",
    "ex: a = 10.5 b=10.5. but id will be same if I assign the variable\n",
    "having float i.e. a=c then both a and c's Id are same\n",
    "Object reusability concept is not applicable on float values.\n",
    "\n",
    "### We have rule in object resualibility concept that, integer values from -5 to 256 in between that only object reusalibity concept will work and it will re-use the address in heap area. \n",
    "### Float values cannot be resued because infinity numbers will be there in between 1.0 to 2.0.  "
   ]
  },
  {
   "cell_type": "code",
   "execution_count": 45,
   "id": "0d1a014b",
   "metadata": {},
   "outputs": [
    {
     "name": "stdout",
     "output_type": "stream",
     "text": [
      "True\n",
      "True\n",
      "True\n",
      "True\n",
      "True\n",
      "True\n"
     ]
    }
   ],
   "source": [
    "# Q. Membership operation\n",
    "# in, not in are two membership operators and it returns boolean value\n",
    "print('2.7' in 'Python2.7.8') #True, because 2.7 is available in given string\n",
    "print(10.20 in [10,10.20,10+20j,'Python']) #True,because 10.20 is available in given data\n",
    "print(10.20 in (10,10.20,10+20j,'Python')) # True, because 10.20 is available in given data\n",
    "print(20.30 in {1,20.30,30+40j}) # True,because 20.30 is available in given data\n",
    "print(2.3 in {1:100, 2.3:200, 30+40j:300}) # True, because 2.3 is available in given data\n",
    "print(10 in range(20)) # True, because 10 is in the range of 0-20"
   ]
  },
  {
   "cell_type": "code",
   "execution_count": null,
   "id": "0ec6a44c",
   "metadata": {},
   "outputs": [],
   "source": []
  },
  {
   "cell_type": "code",
   "execution_count": null,
   "id": "306bafaa",
   "metadata": {},
   "outputs": [],
   "source": []
  }
 ],
 "metadata": {
  "kernelspec": {
   "display_name": "Python 3 (ipykernel)",
   "language": "python",
   "name": "python3"
  },
  "language_info": {
   "codemirror_mode": {
    "name": "ipython",
    "version": 3
   },
   "file_extension": ".py",
   "mimetype": "text/x-python",
   "name": "python",
   "nbconvert_exporter": "python",
   "pygments_lexer": "ipython3",
   "version": "3.9.7"
  }
 },
 "nbformat": 4,
 "nbformat_minor": 5
}
